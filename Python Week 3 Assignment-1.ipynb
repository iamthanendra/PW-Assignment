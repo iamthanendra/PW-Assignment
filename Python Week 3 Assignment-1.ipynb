{
 "cells": [
  {
   "cell_type": "markdown",
   "id": "9f2b1a98-deb8-48e4-8cdc-50c62ada0962",
   "metadata": {},
   "source": [
    "#PWSKill Week - 3 ( 21 may ) Assignmnet-1"
   ]
  },
  {
   "cell_type": "markdown",
   "id": "f8379c92-6e15-4d0b-ab65-e76b31f92541",
   "metadata": {},
   "source": [
    "##Q1. Which keyword is used to create a function? Create a function to return a list of odd numbers in the\n",
    "##range of 1 to 25."
   ]
  },
  {
   "cell_type": "markdown",
   "id": "741ef275-fee9-4425-b000-e3c1083e1d54",
   "metadata": {},
   "source": [
    "keyword used to create a function in Python is 'def'. The syntax for defining a function is as follows:\n",
    "def function_name(parameter_1, parameter_2, ...):\n",
    "    # function body\n",
    "example -:"
   ]
  },
  {
   "cell_type": "code",
   "execution_count": 1,
   "id": "88b27b6f-6a02-45f0-8f61-5cf04a7dfed3",
   "metadata": {},
   "outputs": [
    {
     "data": {
      "text/plain": [
       "[1, 3, 5, 7, 9, 11, 13, 15, 17, 19, 21, 23]"
      ]
     },
     "execution_count": 1,
     "metadata": {},
     "output_type": "execute_result"
    }
   ],
   "source": [
    "#Create a function to return a list of odd numbers in the range of 1 to 25.\n",
    "def odd_number():\n",
    "    \"\"\"This function will return only odd number in the range of 1 to 25\"\"\"\n",
    "    \n",
    "    #if any number mods with 2 is zero then number is even other wise the number odd\n",
    "    odd_number_list = [no for no in range(1,25) if no % 2 != 0] #using list comprehensions\n",
    "    \n",
    "    return odd_number_list;\n",
    "\n",
    "odd_number()"
   ]
  },
  {
   "cell_type": "markdown",
   "id": "fd7e7f77-f776-428f-8f6e-a7def1c7c642",
   "metadata": {},
   "source": [
    "##Q2. Why *args and ** kwargs is used in some functions? Create a function each for *args and ** kwargs to demonstrate their use."
   ]
  },
  {
   "cell_type": "markdown",
   "id": "4ac207bc-5afe-4134-abce-a6dbb86a173d",
   "metadata": {},
   "source": [
    "The *args syntax allows a function to accept any number of positional arguments. When using *args, you can pass multiple arguments to the function, and they will be packed into a tuple. This is useful when you don't know in advance how many arguments will be passed to the function\n",
    "\n",
    "The ** kwargs syntax allows a function to accept any number of keyword arguments, which are packed into a dictionary. This is useful when you want to pass a variable number of keyword arguments to a function."
   ]
  },
  {
   "cell_type": "code",
   "execution_count": 2,
   "id": "dcd00507-97c9-4182-b23e-08f13dde432d",
   "metadata": {},
   "outputs": [
    {
     "name": "stdout",
     "output_type": "stream",
     "text": [
      "Type of args is  <class 'tuple'>\n",
      "Hello\n",
      "My\n",
      "Name\n",
      "is\n",
      "Thannedra\n",
      "(10, 20, 30)\n",
      "12\n",
      "13.5\n"
     ]
    },
    {
     "data": {
      "text/plain": [
       "('Hello', 'My', 'Name', 'is', 'Thannedra', (10, 20, 30), 12, 13.5)"
      ]
     },
     "execution_count": 2,
     "metadata": {},
     "output_type": "execute_result"
    }
   ],
   "source": [
    "##Creating function to demonstrate use of *args\n",
    "def print_args(*args):\n",
    "    \"\"\"This function will print every element and return value as tuple\"\"\"\n",
    "    \n",
    "    print(\"Type of args is \", type(args))\n",
    "    \n",
    "    for statements in args:\n",
    "        print(statements)\n",
    "        \n",
    "    return args #will return all values in form tuple\n",
    "\n",
    "#Calling function print_args()\n",
    "print_args(\"Hello\", \"My\", \"Name\", \"is\", \"Thannedra\", (10, 20, 30), 12, 13.5)"
   ]
  },
  {
   "cell_type": "code",
   "execution_count": 3,
   "id": "eb9a7335-574b-4fed-a985-e6711c87325e",
   "metadata": {},
   "outputs": [
    {
     "name": "stdout",
     "output_type": "stream",
     "text": [
      "Type of kwargs is  <class 'dict'>\n",
      "key\t->\tvalue\n",
      "a\t->\tHello\n",
      "b\t->\tMy\n",
      "c\t->\tName\n",
      "d\t->\tis\n",
      "e\t->\tThannedra\n",
      "f\t->\t(10, 20, 30)\n",
      "g\t->\t12\n",
      "h\t->\t13.5\n"
     ]
    },
    {
     "data": {
      "text/plain": [
       "{'a': 'Hello',\n",
       " 'b': 'My',\n",
       " 'c': 'Name',\n",
       " 'd': 'is',\n",
       " 'e': 'Thannedra',\n",
       " 'f': (10, 20, 30),\n",
       " 'g': 12,\n",
       " 'h': 13.5}"
      ]
     },
     "execution_count": 3,
     "metadata": {},
     "output_type": "execute_result"
    }
   ],
   "source": [
    "##Creating function to demonstrate use of **kwargs\n",
    "def print_kwargs(**kwargs):\n",
    "    \"\"\"This function will print every element key and value and return value as dictionary\"\"\"\n",
    "    \n",
    "    print(\"Type of kwargs is \", type(kwargs))\n",
    "    \n",
    "    print(\"key\\t->\\tvalue\")\n",
    "    for key, value in kwargs.items():\n",
    "        print(key, \"\\t->\\t\", value, sep='')\n",
    "        \n",
    "    return kwargs #will return all values in form tuple\n",
    "\n",
    "#Calling function print_kwargs()\n",
    "print_kwargs(a=\"Hello\", b=\"My\", c=\"Name\", d=\"is\", e=\"Thannedra\", f=(10, 20, 30), g=12, h=13.5)"
   ]
  },
  {
   "cell_type": "markdown",
   "id": "351d08ed-f3f3-4985-a2d4-f62f241580ad",
   "metadata": {},
   "source": [
    "##Q3. What is an iterator in python? Name the method used to initialise the iterator object and the method\n",
    "used for iteration. Use these methods to print the first five elements of the given list [2, 4, 6, 8, 10, 12, 14,\n",
    "16, 18, 20]."
   ]
  },
  {
   "cell_type": "markdown",
   "id": "ce15761d-3b57-435e-9894-b9f5c41f6be5",
   "metadata": {},
   "source": [
    "\n",
    "In Python, an iterator is an object that can be used to iterate over a sequence of data. Iterators are implemented using the iterator protocol, which consists of two methods: iter() and next().\n",
    "\n",
    "The iter() method is called when the iterator is created, and it must return the iterator object itself. The next() method is called to get the next item in the sequence, and it must return the next item or raise a exception if there are no more items.\n",
    "\n",
    "The method used to initialize the iterator object is iter( ). The method used for iteration is next( )"
   ]
  },
  {
   "cell_type": "code",
   "execution_count": 4,
   "id": "b5e21b4a-b397-4def-ad14-4c8030559b1b",
   "metadata": {},
   "outputs": [
    {
     "name": "stdout",
     "output_type": "stream",
     "text": [
      "2\n",
      "4\n",
      "6\n",
      "8\n",
      "10\n"
     ]
    }
   ],
   "source": [
    "my_list = [2, 4, 6, 8, 10, 12, 14, 16, 18, 20]\n",
    "\n",
    "# Create an iterator object from the list\n",
    "iterator = iter(my_list)\n",
    "\n",
    "# Use the iterator to fetch the next element and print the first five elements\n",
    "for i in range(5):\n",
    "    element = next(iterator)\n",
    "    print(element)"
   ]
  },
  {
   "cell_type": "markdown",
   "id": "b5fe34b7-6713-4099-9170-b406e85c2571",
   "metadata": {},
   "source": [
    "##Q4. What is a generator function in python? Why yield keyword is used? Give an example of a generator function."
   ]
  },
  {
   "cell_type": "markdown",
   "id": "72aeebee-7166-4930-aa69-ed2a54442435",
   "metadata": {},
   "source": [
    "A generator function is a special type of function that returns a generator object. Generator objects can be iterated over, but they do not store all the values in memory at once. Instead, they generate the values one at a time, as they are needed. This makes generator objects very memory efficient.\n",
    "\n",
    "The yield keyword is used to create a generator function. When a yield keyword is encountered, the generator function returns the value that is specified along with it, but it does not stop executing. Instead, it saves the current state of the function and the value that was returned, and then it resumes execution the next time the generator object is iterated over."
   ]
  },
  {
   "cell_type": "code",
   "execution_count": 5,
   "id": "2b32681b-ec53-4fe6-93c1-1f2883acf55d",
   "metadata": {},
   "outputs": [
    {
     "name": "stdout",
     "output_type": "stream",
     "text": [
      "2\n",
      "4\n",
      "6\n",
      "8\n",
      "10\n",
      "12\n",
      "14\n",
      "16\n",
      "18\n",
      "20\n",
      "22\n",
      "24\n",
      "26\n",
      "28\n",
      "30\n",
      "32\n",
      "34\n"
     ]
    }
   ],
   "source": [
    "#Generator Function Example\n",
    "def even_range(n):\n",
    "    \"\"\"This function will return even number from 1 to given range n\"\"\"\n",
    "    i = 1;\n",
    "    while i <= n:\n",
    "        if i % 2 == 0:\n",
    "            yield i\n",
    "        i += 1\n",
    "        \n",
    "#printing even number between 1 to 35\n",
    "for even in even_range(35):\n",
    "    print(even)"
   ]
  },
  {
   "cell_type": "markdown",
   "id": "b563f316-7a44-4720-928f-6f466e315652",
   "metadata": {},
   "source": [
    "##Q5. Create a generator function for prime numbers less than 1000. Use the next() method to print the first 20 prime numbers."
   ]
  },
  {
   "cell_type": "code",
   "execution_count": 6,
   "id": "fd6c7b46-a50c-4a64-979f-17915fca76c1",
   "metadata": {},
   "outputs": [
    {
     "name": "stdout",
     "output_type": "stream",
     "text": [
      "2\n",
      "3\n",
      "5\n",
      "7\n",
      "9\n",
      "11\n",
      "13\n",
      "15\n",
      "17\n",
      "19\n",
      "21\n",
      "23\n",
      "25\n",
      "27\n",
      "29\n",
      "31\n",
      "33\n",
      "35\n",
      "37\n",
      "39\n"
     ]
    }
   ],
   "source": [
    "def prime_no_generator():\n",
    "    \n",
    "    primecheck = lambda n, f: True if n%f == 0 else False\n",
    "    \n",
    "    for i in range(2, 1001):\n",
    "        j = 2\n",
    "        while j <= i/2:\n",
    "            if primecheck(i/2, j) :\n",
    "                break\n",
    "            j +=1\n",
    "        else:\n",
    "            yield i\n",
    "\n",
    "no = prime_no_generator()\n",
    "\n",
    "for _ in range(20):\n",
    "    print(next(no))"
   ]
  },
  {
   "cell_type": "markdown",
   "id": "6e8fb029-47e2-49d6-b924-45fff86775b9",
   "metadata": {},
   "source": [
    "##Q6. Write a python program to print the first 10 Fibonacci numbers using a while loop."
   ]
  },
  {
   "cell_type": "code",
   "execution_count": 9,
   "id": "46163a1a-3f27-4dd6-b173-f47f3744c611",
   "metadata": {},
   "outputs": [
    {
     "name": "stdout",
     "output_type": "stream",
     "text": [
      "0\n",
      "1\n",
      "1\n",
      "2\n",
      "3\n",
      "5\n",
      "8\n",
      "13\n",
      "21\n",
      "34\n"
     ]
    }
   ],
   "source": [
    "#printing fibonacci\n",
    "i = 1\n",
    "a, b = 0, 1\n",
    "while i <= 10:\n",
    "    print(a)\n",
    "    a , b = b, a+b\n",
    "    i += 1"
   ]
  },
  {
   "cell_type": "markdown",
   "id": "1cc26674-d94b-4cbd-8a21-5758e33e72a6",
   "metadata": {},
   "source": [
    "##Q7. Write a List Comprehension to iterate through the given string: ‘pwskills’.\n",
    "##Expected output: ['p', 'w', 's', 'k', 'i', 'l', 'l', 's']"
   ]
  },
  {
   "cell_type": "code",
   "execution_count": 10,
   "id": "d4224160-16ce-4f0f-9e66-e893a77026d6",
   "metadata": {},
   "outputs": [
    {
     "name": "stdout",
     "output_type": "stream",
     "text": [
      "['p', 'w', 's', 'k', 'i', 'l', 'l', 's']\n"
     ]
    }
   ],
   "source": [
    "#creating array with value 'pwskills'\n",
    "my_string = 'pwskills'\n",
    "\n",
    "#Converting to list using list comprehension\n",
    "my_list = [_ for _ in my_string]\n",
    "\n",
    "#printing list\n",
    "print(my_list)"
   ]
  },
  {
   "cell_type": "markdown",
   "id": "328d33f7-903d-4e86-b819-47054ba8ff11",
   "metadata": {},
   "source": [
    "##Q8. Write a python program to check whether a given number is Palindrome or not using a while loop."
   ]
  },
  {
   "cell_type": "code",
   "execution_count": 14,
   "id": "f7ff924d-c000-40bc-bf03-80416679e927",
   "metadata": {},
   "outputs": [
    {
     "name": "stdin",
     "output_type": "stream",
     "text": [
      "Enter any no : 12\n"
     ]
    },
    {
     "name": "stdout",
     "output_type": "stream",
     "text": [
      "12 is not fibbonacci number\n"
     ]
    }
   ],
   "source": [
    "number = int(input('Enter any no :'))\n",
    "temp = number\n",
    "reverse_number = 0\n",
    "while temp > 0 :\n",
    "    reverse_number = reverse_number*10 + temp%10\n",
    "    temp //= 10\n",
    "\n",
    "if reverse_number == number:\n",
    "    print(f\"{number} is fibbonacci number\")\n",
    "else:\n",
    "    print(f\"{number} is not fibbonacci number\")\n",
    "    "
   ]
  },
  {
   "cell_type": "markdown",
   "id": "c70d98e8-7dfb-46ee-95ba-f4285a196d80",
   "metadata": {},
   "source": [
    "##Q9. Write a code to print odd numbers from 1 to 100 using list comprehension.\n",
    "###Note: Use a list comprehension to create a list from 1 to 100 and use another List comprehension to filter out odd numbers."
   ]
  },
  {
   "cell_type": "code",
   "execution_count": 17,
   "id": "eb318443-a25d-4789-80d5-08744a43de6c",
   "metadata": {},
   "outputs": [
    {
     "name": "stdout",
     "output_type": "stream",
     "text": [
      "[1, 3, 5, 7, 9, 11, 13, 15, 17, 19, 21, 23, 25, 27, 29, 31, 33, 35, 37, 39, 41, 43, 45, 47, 49, 51, 53, 55, 57, 59, 61, 63, 65, 67, 69, 71, 73, 75, 77, 79, 81, 83, 85, 87, 89, 91, 93, 95, 97, 99]\n"
     ]
    }
   ],
   "source": [
    "#Creating List which contains number from 1 to 100\n",
    "my_list = [_ for _ in range(1,101) ]\n",
    "\n",
    "#Creating list contains odd number of my_list\n",
    "my_list_odd = list(filter(lambda n: n%2 != 0, my_list))\n",
    "\n",
    "#printing odd number list\n",
    "print(my_list_odd)"
   ]
  }
 ],
 "metadata": {
  "kernelspec": {
   "display_name": "Python 3 (ipykernel)",
   "language": "python",
   "name": "python3"
  },
  "language_info": {
   "codemirror_mode": {
    "name": "ipython",
    "version": 3
   },
   "file_extension": ".py",
   "mimetype": "text/x-python",
   "name": "python",
   "nbconvert_exporter": "python",
   "pygments_lexer": "ipython3",
   "version": "3.10.8"
  }
 },
 "nbformat": 4,
 "nbformat_minor": 5
}
