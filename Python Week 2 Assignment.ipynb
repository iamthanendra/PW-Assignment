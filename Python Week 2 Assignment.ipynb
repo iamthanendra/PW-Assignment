{
 "cells": [
  {
   "cell_type": "raw",
   "id": "528a2b28-0237-4541-986b-5ffb6e087ea1",
   "metadata": {},
   "source": [
    "PWSKill Week - 2 ( 15 may ) Data Structure in Python Assignmnets"
   ]
  },
  {
   "cell_type": "raw",
   "id": "bc1da93c-7cf7-4821-9e85-b8cbf369173f",
   "metadata": {},
   "source": [
    "Q1. How do you comment code in Python? What are the different types of comments?"
   ]
  },
  {
   "cell_type": "raw",
   "id": "0ca07ed9-4318-4651-9696-7f4e35cbd58c",
   "metadata": {},
   "source": [
    "Comments -: Comments in Python are used to explain what the code does. They can be used to make the code more readable and to help other people understand what the code is doing. Comments are not executed by the python interpreter.\n",
    "There are two type of comment in python : Single Line Comment and Multi Line Comment\n",
    "\n",
    "Single Line Comment -: it starts with hash ( # ) symbol and continue to the end of the line. For Example :\n",
    "#Hii My Name is Thanendra Kashyap, This is my single line comment\n",
    "\n",
    "Multi Line Comment -: it start with three double quotes (\"\"\") or three single quotes (''') and end with the same character sequence. For example:\n",
    "\"\"\" This\n",
    "    is\n",
    "    my\n",
    "    multiline\n",
    "    comment\n",
    "\"\"\"\n",
    "\n",
    "multi line comments can also use as string value"
   ]
  },
  {
   "cell_type": "raw",
   "id": "b56c31b8-6cda-4654-85f8-f7bf84d92034",
   "metadata": {},
   "source": [
    "Q2. What are variables in Python? How do you declare and assign values to variables?"
   ]
  },
  {
   "cell_type": "raw",
   "id": "3eca3fba-c8ba-4942-a95a-28789278c1e6",
   "metadata": {},
   "source": [
    "Variables are used to store data in computer memory. They can be used to store any type of data, including numbers, strings, and objects\n",
    "    Syntax of declaring variable in python :\n",
    "        variable_name = value\n",
    "        \n",
    "example:"
   ]
  },
  {
   "cell_type": "code",
   "execution_count": 8,
   "id": "171b26a3-1f5f-46a3-bbdd-5c1ee90c1244",
   "metadata": {},
   "outputs": [],
   "source": [
    "name = \"Thanendra Kashyap\" # declare variable as name and assigned value to it"
   ]
  },
  {
   "cell_type": "raw",
   "id": "d8746331-c0b5-4296-98c7-cf338dd35027",
   "metadata": {},
   "source": [
    "Q3. How do you convert one data type to another in Python?"
   ]
  },
  {
   "cell_type": "raw",
   "id": "88f34f5d-bbd9-4832-89bf-5ba941e3149b",
   "metadata": {},
   "source": [
    "For Converting one data type to another, we can use type casting, there are several method to type casting one variable to another, those methods such as int(), float(), str() etc\n",
    "Example"
   ]
  },
  {
   "cell_type": "code",
   "execution_count": 9,
   "id": "e38e014e-bf62-4d67-8119-55fad403d37e",
   "metadata": {},
   "outputs": [
    {
     "name": "stdout",
     "output_type": "stream",
     "text": [
      "<class 'str'>  ->  123.45\n",
      "<class 'float'>  ->  123.45\n",
      "<class 'int'>  ->  123\n",
      "<class 'str'>  ->  123\n"
     ]
    }
   ],
   "source": [
    "my_string = '123.45' #String Type variable\n",
    "print(type(my_string), \" -> \", my_string)\n",
    "\n",
    "float_variable = float(my_string) #Type casting to float\n",
    "print(type(float_variable), \" -> \", float_variable)\n",
    "\n",
    "int_variable = int(float_variable) #Type casting to int\n",
    "print(type(int_variable), \" -> \", int_variable)\n",
    "\n",
    "string_variable = str(int_variable) #Type casting to int\n",
    "print(type(string_variable), \" -> \", string_variable)"
   ]
  },
  {
   "cell_type": "raw",
   "id": "173a97b8-52b7-428c-821c-583bd4914386",
   "metadata": {},
   "source": [
    "Q4. How do you write and execute a Python script from the command line?"
   ]
  },
  {
   "cell_type": "raw",
   "id": "e1e771fb-ce37-4514-90d8-41bad3cf31de",
   "metadata": {},
   "source": [
    "To write and execute a Python script from the command line, you will need to:\n",
    "\n",
    "    Create a new Python file.\n",
    "    Write your Python code in the file.\n",
    "    Save the file with a .py extension.\n",
    "    Open a command prompt or terminal window.\n",
    "    Navigate to the directory where your Python file is located.\n",
    "    Type the following command: python [filename]\n",
    "    \n",
    "Example-: For example,my python file is named \"hello.py\", now i will type following command in terminal after navigating to \"hello.py\" directory:\n",
    "python hello.py\n",
    "then my terminal will execute my python file"
   ]
  },
  {
   "cell_type": "raw",
   "id": "af804162-f27c-4bc9-84b8-54cc9daa5bc2",
   "metadata": {},
   "source": [
    "Q5. Given a list my_list = [1, 2, 3, 4, 5], write the code to slice the list and obtain the sub-list [2, 3]."
   ]
  },
  {
   "cell_type": "code",
   "execution_count": 10,
   "id": "24ac0ce8-c624-4b88-925d-0427608f67db",
   "metadata": {},
   "outputs": [
    {
     "name": "stdout",
     "output_type": "stream",
     "text": [
      "[2, 3]\n"
     ]
    }
   ],
   "source": [
    "#declaring list\n",
    "my_list = [1, 2, 3, 4, 5] \n",
    "\n",
    "#Slicing sublist [2,3] and printing it\n",
    "print(my_list[1:3])"
   ]
  },
  {
   "cell_type": "raw",
   "id": "6df8096b-42dc-4aa6-8b8b-23816294905d",
   "metadata": {},
   "source": [
    "Q6. What is a complex number in mathematics, and how is it represented in Python?"
   ]
  },
  {
   "cell_type": "raw",
   "id": "8b581f78-a9de-4f88-8dec-80c94ce5e01d",
   "metadata": {},
   "source": [
    "A complex number is a number of the form a + bi, where a and b are real numbers, and i is an imaginary unit satisfying i^2 = −1. For example, 2 + 3i is a complex number.\n",
    "\n",
    "For representing complex number in we should use 'j' instead of 'i', because 'i' is reserve as integer literals in python so the complex can be in python : 2 + 3j"
   ]
  },
  {
   "cell_type": "code",
   "execution_count": 12,
   "id": "d1a3f51e-6a5c-434f-9796-1798388e7e54",
   "metadata": {},
   "outputs": [
    {
     "name": "stdout",
     "output_type": "stream",
     "text": [
      "<class 'complex'>  ->  (2+3j)\n",
      "(5+7j)\n",
      "Imaginary Part is  7.0\n",
      "Real Part is  5.0\n"
     ]
    }
   ],
   "source": [
    "complex1 = 2+3j\n",
    "print(type(complex1), \" -> \", complex1)\n",
    "\n",
    "complex2 = 3+ 4j\n",
    "\n",
    "result = complex1 + complex2\n",
    "print(result)\n",
    "\n",
    "#We can use imag() and real() method to retrieve imaginary and real part of complex no i.e.\n",
    "print(\"Imaginary Part is \", result.imag)\n",
    "print(\"Real Part is \", result.real)"
   ]
  },
  {
   "cell_type": "raw",
   "id": "85fd8179-bd8a-4a14-9580-5501d2014359",
   "metadata": {},
   "source": [
    "Q7. What is the correct way to declare a variable named age and assign the value 25 to it?"
   ]
  },
  {
   "cell_type": "raw",
   "id": "e7be3e4c-dc4b-4eb3-ac3a-9a19150cc576",
   "metadata": {},
   "source": [
    "The correct way to declare a variable named age and assign the value 25 to it is as follows:\n",
    "    age = 25\n",
    "This will create a variable named age and assign the value 25 to it."
   ]
  },
  {
   "cell_type": "code",
   "execution_count": 15,
   "id": "4e06bc21-975c-49e3-8bb9-49f7eb6423cb",
   "metadata": {},
   "outputs": [],
   "source": [
    "#Creating variable name as age and intializing it with 25 so\n",
    "age = 25"
   ]
  },
  {
   "cell_type": "raw",
   "id": "908ae935-7470-47e0-8b71-e9ee70f4b0c5",
   "metadata": {},
   "source": [
    "Q8. Declare a variable named price and assign the value 9.99 to it. What data type does this variable\n",
    "belong to?"
   ]
  },
  {
   "cell_type": "code",
   "execution_count": 16,
   "id": "058c0345-54da-49c2-8f1a-77697134e769",
   "metadata": {},
   "outputs": [
    {
     "name": "stdout",
     "output_type": "stream",
     "text": [
      "Data type of variable price is  <class 'float'>\n"
     ]
    }
   ],
   "source": [
    "#Declaring Variable named as price and assigning it 9.99\n",
    "price = 9.99 #it will belong to float\n",
    "\n",
    "#Printing Variable Data Type\n",
    "print(\"Data type of variable price is \", type(price))"
   ]
  },
  {
   "cell_type": "raw",
   "id": "0db4145b-2ef0-493d-8799-78254bee5767",
   "metadata": {},
   "source": [
    "Q9. Create a variable named name and assign your full name to it as a string. How would you print the\n",
    "value of this variable?"
   ]
  },
  {
   "cell_type": "code",
   "execution_count": 17,
   "id": "ef5dd9b7-8703-4afc-8114-4c6b90fc52c9",
   "metadata": {},
   "outputs": [
    {
     "name": "stdout",
     "output_type": "stream",
     "text": [
      "Thanendra Kashyap\n",
      "Thanendra Kashyap\n"
     ]
    }
   ],
   "source": [
    "# creating variable as name\n",
    "name = \"Thanendra Kashyap\"\n",
    "\n",
    "#Way 1 : we can direct print string variable\n",
    "print(name)\n",
    "\n",
    "#Way 2 : Slicing from starting to ending\n",
    "print(name[::]) #start:stop:step"
   ]
  },
  {
   "cell_type": "raw",
   "id": "3bc0ff93-e515-4cd4-a8f3-f330ca982c14",
   "metadata": {},
   "source": [
    "Q10. Given the string \"Hello, World!\", extract the substring \"World\"."
   ]
  },
  {
   "cell_type": "code",
   "execution_count": 18,
   "id": "991a7d66-d1a8-459d-a99a-c78b71051cb0",
   "metadata": {},
   "outputs": [
    {
     "name": "stdout",
     "output_type": "stream",
     "text": [
      "World\n"
     ]
    }
   ],
   "source": [
    "my_string = \"Hello, World\"\n",
    "\n",
    "#Extracting Substring \"World\" \n",
    "print(my_string[7:12])"
   ]
  },
  {
   "cell_type": "raw",
   "id": "8242d81f-420a-40aa-8aa8-0ddf0f504fce",
   "metadata": {},
   "source": [
    "Q11. Create a variable named \"is_student\" and assign it a boolean value indicating whether you are\n",
    "currently a student or not."
   ]
  },
  {
   "cell_type": "code",
   "execution_count": 19,
   "id": "c7e2f9b9-b5a8-40e0-9c8a-d021999aae60",
   "metadata": {},
   "outputs": [],
   "source": [
    "#Creating variable named as is_student and assigning it boolean value\n",
    "is_student = True"
   ]
  }
 ],
 "metadata": {
  "kernelspec": {
   "display_name": "Python 3 (ipykernel)",
   "language": "python",
   "name": "python3"
  },
  "language_info": {
   "codemirror_mode": {
    "name": "ipython",
    "version": 3
   },
   "file_extension": ".py",
   "mimetype": "text/x-python",
   "name": "python",
   "nbconvert_exporter": "python",
   "pygments_lexer": "ipython3",
   "version": "3.10.8"
  }
 },
 "nbformat": 4,
 "nbformat_minor": 5
}
