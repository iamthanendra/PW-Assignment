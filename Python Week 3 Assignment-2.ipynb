{
 "cells": [
  {
   "cell_type": "markdown",
   "id": "995eb784-15bd-4ae3-992f-13983474b029",
   "metadata": {},
   "source": [
    "#PWSKill Week - 3 ( 21 may ) Assignment-2"
   ]
  },
  {
   "cell_type": "markdown",
   "id": "27806f89-df38-4d1c-abf9-2df3ee1c409e",
   "metadata": {},
   "source": [
    "##Q1. Create a python program to sort the given list of tuples based on integer value using a lambda function.\n",
    "##[('Sachin Tendulkar', 34357), ('Ricky Ponting', 27483), ('Jack Kallis', 25534), ('Virat Kohli', 24936)]"
   ]
  },
  {
   "cell_type": "code",
   "execution_count": 4,
   "id": "239564c4-608e-43c2-baf3-dcdc28f2fe00",
   "metadata": {},
   "outputs": [
    {
     "data": {
      "text/plain": [
       "[('Virat Kohli', 24936),\n",
       " ('Jack Kallis', 25534),\n",
       " ('Ricky Ponting', 27483),\n",
       " ('Sachin Tendulkar', 34357)]"
      ]
     },
     "execution_count": 4,
     "metadata": {},
     "output_type": "execute_result"
    }
   ],
   "source": [
    "#Creating List\n",
    "my_list = [('Sachin Tendulkar', 34357), ('Ricky Ponting', 27483), ('Jack Kallis', 25534), ('Virat Kohli', 24936)]\n",
    "\n",
    "#Creating lambda function which will give return int value from tuples\n",
    "get_key = lambda x: x[1]\n",
    "\n",
    "#Sorting my_list basis of their integer value\n",
    "my_list.sort(key=get_key)\n",
    "\n",
    "my_list"
   ]
  },
  {
   "cell_type": "markdown",
   "id": "6fd47e64-d46e-49b3-b9f3-f02e300d5773",
   "metadata": {},
   "source": [
    "##Q2. Write a Python Program to find the squares of all the numbers in the given list of integers using lambda and map functions.\n",
    "##[1, 2, 3, 4, 5, 6, 7, 8, 9, 10]"
   ]
  },
  {
   "cell_type": "code",
   "execution_count": 6,
   "id": "c4f4368a-1bc8-412e-8989-ae892466d5cf",
   "metadata": {},
   "outputs": [
    {
     "data": {
      "text/plain": [
       "[1, 4, 9, 16, 25, 36, 49, 64, 81, 100]"
      ]
     },
     "execution_count": 6,
     "metadata": {},
     "output_type": "execute_result"
    }
   ],
   "source": [
    "#Creating list\n",
    "my_list = [1, 2, 3, 4, 5, 6, 7, 8, 9, 10]\n",
    "\n",
    "#lambda function which will return any number square\n",
    "sq = lambda n : n ** 2\n",
    "\n",
    "#Mapping my_list with sq lambda function\n",
    "my_list = list(map(sq, my_list))\n",
    "\n",
    "my_list"
   ]
  },
  {
   "cell_type": "markdown",
   "id": "1e2b7306-6f18-4b92-ac75-3e1d4e1e9c09",
   "metadata": {},
   "source": [
    "##Q3. Write a python program to convert the given list of integers into a tuple of strings. Use map and lambda functions\n",
    "##Given list: [1, 2, 3, 4, 5, 6, 7, 8, 9, 10]\n",
    "##Expected output: ('1', '2', '3', '4', '5', '6', '7', '8', '9', '10')"
   ]
  },
  {
   "cell_type": "code",
   "execution_count": 7,
   "id": "4974c3cf-1f57-40cd-acb5-08b7d3a369a9",
   "metadata": {},
   "outputs": [
    {
     "data": {
      "text/plain": [
       "('1', '2', '3', '4', '5', '6', '7', '8', '9', '10')"
      ]
     },
     "execution_count": 7,
     "metadata": {},
     "output_type": "execute_result"
    }
   ],
   "source": [
    "#Creating list\n",
    "my_list = [1, 2, 3, 4, 5, 6, 7, 8, 9, 10]\n",
    "\n",
    "#Converting to string and storing in form of tuple in my_tuple variable\n",
    "my_tuple = tuple(map( lambda x: str(x) , my_list))\n",
    "\n",
    "my_tuple"
   ]
  },
  {
   "cell_type": "markdown",
   "id": "c4ea920d-346e-47f4-9f17-258cbf93f2b6",
   "metadata": {},
   "source": [
    "##Q4. Write a python program using reduce function to compute the product of a list containing numbers from 1 to 25."
   ]
  },
  {
   "cell_type": "code",
   "execution_count": 12,
   "id": "fba4cfe2-7702-4ffd-8092-32a10ba4e0de",
   "metadata": {},
   "outputs": [
    {
     "data": {
      "text/plain": [
       "15511210043330985984000000"
      ]
     },
     "execution_count": 12,
     "metadata": {},
     "output_type": "execute_result"
    }
   ],
   "source": [
    "#Creating list which containg number from 1-25 using list comprehension\n",
    "my_list = [_ for _ in range(1,26)]\n",
    "\n",
    "#importing functools to use reduce method\n",
    "from functools import reduce\n",
    "\n",
    "#calculating product of my_list and storting it to my_list_product variable\n",
    "my_list_product = reduce(lambda x, y: x*y, my_list)\n",
    "\n",
    "my_list_product"
   ]
  },
  {
   "cell_type": "markdown",
   "id": "f7622a78-4bc5-4bb2-ac91-b361341ac61f",
   "metadata": {},
   "source": [
    "##Q5. Write a python program to filter the numbers in a given list that are divisible by 2 and 3 using the filter function.\n",
    "##[2, 3, 6, 9, 27, 60, 90, 120, 55, 46]"
   ]
  },
  {
   "cell_type": "code",
   "execution_count": 13,
   "id": "d4240df3-6758-4fee-9454-39c5be6455e8",
   "metadata": {},
   "outputs": [
    {
     "data": {
      "text/plain": [
       "[6, 60, 90, 120]"
      ]
     },
     "execution_count": 13,
     "metadata": {},
     "output_type": "execute_result"
    }
   ],
   "source": [
    "#creating my_list with given value\n",
    "my_list = [2, 3, 6, 9, 27, 60, 90, 120, 55, 46]\n",
    "\n",
    "\n",
    "#Creating filtered_list which contains number which can divide by 2 and 3\n",
    "filtered_list = list(filter(lambda x: x % 2 == 0 and x % 3 == 0, my_list ))\n",
    "\n",
    "filtered_list"
   ]
  },
  {
   "cell_type": "markdown",
   "id": "b6259347-5841-437f-9be2-a74516bf64e0",
   "metadata": {},
   "source": [
    "##Q6. Write a python program to find palindromes in the given list of strings using lambda and filter function.\n",
    "##['python', 'php', 'aba', 'radar', 'level']"
   ]
  },
  {
   "cell_type": "code",
   "execution_count": 15,
   "id": "11588bef-0abc-4626-8cfd-67be5e7449cb",
   "metadata": {},
   "outputs": [
    {
     "data": {
      "text/plain": [
       "['php', 'aba', 'radar', 'level']"
      ]
     },
     "execution_count": 15,
     "metadata": {},
     "output_type": "execute_result"
    }
   ],
   "source": [
    "#Creating my_list which contains given value\n",
    "my_list = ['python', 'php', 'aba', 'radar', 'level']\n",
    "\n",
    "#creating palindrome list which contains only palindrome string\n",
    "palin_list = list(filter(lambda x: x == x[::-1], my_list ))\n",
    "\n",
    "palin_list"
   ]
  }
 ],
 "metadata": {
  "kernelspec": {
   "display_name": "Python 3 (ipykernel)",
   "language": "python",
   "name": "python3"
  },
  "language_info": {
   "codemirror_mode": {
    "name": "ipython",
    "version": 3
   },
   "file_extension": ".py",
   "mimetype": "text/x-python",
   "name": "python",
   "nbconvert_exporter": "python",
   "pygments_lexer": "ipython3",
   "version": "3.10.8"
  }
 },
 "nbformat": 4,
 "nbformat_minor": 5
}
