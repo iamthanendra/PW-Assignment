{
 "cells": [
  {
   "cell_type": "markdown",
   "id": "af2a946b-932e-4eb9-b69e-19dffb3aec04",
   "metadata": {},
   "source": [
    "PWSkill Week 1 Python Assignment"
   ]
  },
  {
   "cell_type": "code",
   "execution_count": 1,
   "id": "6659e9a2-f7f4-4ceb-a461-ca4f10edda4f",
   "metadata": {},
   "outputs": [],
   "source": [
    "#Q1. Create one variable containing following type of data:\n",
    "#(i) string\n",
    "#(ii) list\n",
    "#(iii) float\n",
    "#(iv) tuple"
   ]
  },
  {
   "cell_type": "code",
   "execution_count": 3,
   "id": "d61ccec5-bc66-4c3a-94dd-13019e80d4b1",
   "metadata": {},
   "outputs": [],
   "source": [
    "#Creating String Type Variable\n",
    "name = \"Thanendra Kashyap\"\n",
    "\n",
    "#Creating List\n",
    "skills = ['C', 1, 'C++', 2, 'Java', 3, 'AWT', 4, 'Java Swing', 5, 'JDBC', 6, 'JSP', 7, 'Servlet', 8, 'C#', 9, 'ASP.NET', 10, 'HTML', 11, 'CSS', 12, 'Vanilla JavaScript', 13, 'React Js', 14]\n",
    "\n",
    "#float Type\n",
    "cgpa = 8.5\n",
    "\n",
    "#Tuple\n",
    "thistuple = (\"apple\", \"banana\", \"cherry\", \"apple\", \"banana\", \"cherry\")"
   ]
  },
  {
   "cell_type": "code",
   "execution_count": 4,
   "id": "7f624b80-7a1f-4848-a29d-44805a9c9026",
   "metadata": {},
   "outputs": [],
   "source": [
    "# Q2. Given are some following variables containing data:\n",
    "# (i) var1 = ‘ ‘ #String \n",
    "# (ii) var2 = ‘[ DS , ML , Python]’ # String\n",
    "# (iii) var3 = [ ‘DS’ , ’ML’ , ‘Python’ ] #list\n",
    "# (iv) var4 = 1. #float\n",
    "# What will be the data type of the above given variable."
   ]
  },
  {
   "cell_type": "code",
   "execution_count": 5,
   "id": "46cb484a-cfb2-4840-bb42-32b34cddff46",
   "metadata": {},
   "outputs": [
    {
     "name": "stdout",
     "output_type": "stream",
     "text": [
      "type of var1 is :  <class 'str'>\n",
      "type of var1 is :  <class 'str'>\n",
      "type of var1 is :  <class 'list'>\n",
      "type of var1 is :  <class 'float'>\n"
     ]
    }
   ],
   "source": [
    "var1 = '' #String\n",
    "print(\"type of var1 is : \", type(var1))\n",
    "\n",
    "var2 = '[ DS , ML , Python]' #String\n",
    "print(\"type of var1 is : \", type(var2))\n",
    "\n",
    "var3 = [ 'DS' , 'ML' , 'Python' ] #list\n",
    "print(\"type of var1 is : \", type(var3))\n",
    "\n",
    "var4 = 1. #float\n",
    "print(\"type of var1 is : \", type(var4))"
   ]
  },
  {
   "cell_type": "code",
   "execution_count": 6,
   "id": "cb3ab048-1e90-4c0c-8971-473ba64f847c",
   "metadata": {},
   "outputs": [],
   "source": [
    "# Q3. Explain the use of the following operators using an example:\n",
    "# (i) /\n",
    "# (ii) %\n",
    "# (iii) //\n",
    "# (iv) **"
   ]
  },
  {
   "cell_type": "code",
   "execution_count": 18,
   "id": "7bc070b3-c05b-412d-9f9f-738202d91fdc",
   "metadata": {},
   "outputs": [
    {
     "name": "stdout",
     "output_type": "stream",
     "text": [
      "12  /  5  is :  2.4\n",
      "remainder of  12 % 5  is :  2\n",
      "12.5  %  3  is :  0.5\n",
      "12  //  5  is :  2\n",
      "2 ^ 5  is :  32\n"
     ]
    }
   ],
   "source": [
    "#(i) / -> it is arithmetic operator used to divide numerical value and return float value as result\n",
    "a = 12\n",
    "b = 5\n",
    "print(a, \" / \", b, \" is : \", a/b) #returning float value\n",
    "\n",
    "#(ii) % -> this arithmetic operator is called Modulus operator, it always return remainder of two numerical values\n",
    "a = 12\n",
    "b = 5\n",
    "print(\"remainder of \",a, \"%\", b, \" is : \", a%b) #returning int value\n",
    "a = a % b\n",
    "\n",
    "#In other programming language we can't perform modulus operation with floating point, which can occurs an error\n",
    "#but in python no error occurs \n",
    "#i.e.\n",
    "print(12.5, \" % \", 3, \" is : \", 12.5%3)\n",
    "\n",
    "# (iii) // -> this arithmetic operator is called Floor division, it always return integer value, firstly it divides two values then floor the results\n",
    "a = 12\n",
    "b = 5\n",
    "print(a, \" // \", b, \" is : \", a//b) #returning int value\n",
    "\n",
    "# (iv) ** -> this arithmetic operator is called Floor division, it use to power of any number\n",
    "a = 2\n",
    "b = 5\n",
    "print(a, \"^\", b, \" is : \", a**b) "
   ]
  },
  {
   "cell_type": "code",
   "execution_count": 19,
   "id": "40ff6703-2a3f-4cea-89e7-5d2888b9d30b",
   "metadata": {},
   "outputs": [],
   "source": [
    "#Q4. Create a list of length 10 of your choice containing multiple types of data. Using for loop print the element and its data type."
   ]
  },
  {
   "cell_type": "code",
   "execution_count": 20,
   "id": "2d3a9e55-4810-4efc-aef2-b193ca2e61ef",
   "metadata": {},
   "outputs": [
    {
     "name": "stdout",
     "output_type": "stream",
     "text": [
      "10  ->  <class 'int'>\n",
      "20  ->  <class 'int'>\n",
      "30  ->  <class 'int'>\n",
      "40  ->  <class 'str'>\n",
      "50  ->  <class 'str'>\n",
      "60  ->  <class 'str'>\n",
      "70.1  ->  <class 'float'>\n",
      "80.2  ->  <class 'float'>\n",
      "90.3  ->  <class 'float'>\n",
      "100  ->  <class 'int'>\n"
     ]
    }
   ],
   "source": [
    "lst = [10, 20, 30, \"40\", \"50\", \"60\", 70.1, 80.2, 90.3, 100]\n",
    "for itr in lst:\n",
    "    print(itr, \" -> \", type(itr))"
   ]
  },
  {
   "cell_type": "code",
   "execution_count": 21,
   "id": "22a85c79-03b4-4432-a48a-e37a7da1f80c",
   "metadata": {},
   "outputs": [],
   "source": [
    "#Q5. Using a while loop, verify if the number A is purely divisible by number B and if so then how many times it can be divisible."
   ]
  },
  {
   "cell_type": "code",
   "execution_count": 26,
   "id": "656e7e8f-78e3-4360-b371-1a0ae1efeade",
   "metadata": {},
   "outputs": [
    {
     "name": "stdin",
     "output_type": "stream",
     "text": [
      "Enter value of A : 10\n",
      "Enter value of B : 6\n"
     ]
    },
    {
     "name": "stdout",
     "output_type": "stream",
     "text": [
      "10  is not purely divisible by  6\n"
     ]
    }
   ],
   "source": [
    "A = int(input('Enter value of A :'))\n",
    "B = int(input('Enter value of B :'))\n",
    "\n",
    "if A%B == 0 :\n",
    "    print(A ,\" is purely divisible by \", B, \" in \", int(A/B) , \" times \")\n",
    "else :\n",
    "    print(A, \" is not purely divisible by \", B)"
   ]
  },
  {
   "cell_type": "code",
   "execution_count": 27,
   "id": "cf99e5c6-e293-43a9-ae57-f563d9e5140d",
   "metadata": {},
   "outputs": [],
   "source": [
    "#Q6. Create a list containing 25 int type data. Using for loop and if-else condition print if the element is divisible by 3 or not."
   ]
  },
  {
   "cell_type": "code",
   "execution_count": 38,
   "id": "d8ff2044-115a-4eb3-ba1b-c72e3b202111",
   "metadata": {},
   "outputs": [
    {
     "name": "stdout",
     "output_type": "stream",
     "text": [
      "72  is divisible by 3\n",
      "30  is divisible by 3\n",
      "22  is not divisible by 3\n",
      "56  is not divisible by 3\n",
      "84  is divisible by 3\n",
      "40  is not divisible by 3\n",
      "98  is not divisible by 3\n",
      "51  is divisible by 3\n",
      "48  is divisible by 3\n",
      "54  is divisible by 3\n",
      "62  is not divisible by 3\n",
      "36  is divisible by 3\n",
      "48  is divisible by 3\n",
      "20  is not divisible by 3\n",
      "91  is not divisible by 3\n",
      "39  is divisible by 3\n",
      "22  is not divisible by 3\n",
      "74  is not divisible by 3\n",
      "56  is not divisible by 3\n",
      "53  is not divisible by 3\n",
      "17  is not divisible by 3\n",
      "57  is divisible by 3\n",
      "59  is not divisible by 3\n",
      "74  is not divisible by 3\n",
      "86  is not divisible by 3\n"
     ]
    }
   ],
   "source": [
    "import random as r\n",
    "lst = [r.randint(10,100) for i in range(25) ]\n",
    "for i in lst:\n",
    "    if i % 3 == 0 :\n",
    "        print(i, \" is divisible by 3\")\n",
    "    else :\n",
    "        print(i, \" is not divisible by 3\")"
   ]
  },
  {
   "cell_type": "code",
   "execution_count": 39,
   "id": "5356e830-5d82-459b-a154-91db414f55c6",
   "metadata": {},
   "outputs": [],
   "source": [
    "#Q7. What do you understand about mutable and immutable data types? Give examples for both showing this property."
   ]
  },
  {
   "cell_type": "code",
   "execution_count": 47,
   "id": "bd884275-ca20-40f2-8055-b9b627a43ba4",
   "metadata": {},
   "outputs": [
    {
     "name": "stdout",
     "output_type": "stream",
     "text": [
      "40\n",
      "10\n",
      "20\n",
      "30\n",
      "40\n",
      "[10, 20, 30, 35]\n",
      " \n",
      "H\n",
      "e\n",
      "l\n",
      "l\n",
      "o\n",
      " \n",
      "W\n",
      "o\n",
      "r\n",
      "l\n",
      "d\n",
      "!\n",
      "Hello World!\n"
     ]
    }
   ],
   "source": [
    "#Mutable data types are those objects whose value can be change or altered after it has been created and\n",
    "#Immutable data types are those objects whose value can't be change or altered after it has been created\n",
    "\n",
    "#Mutable data types are Lists, Dictionaries, Sets etc\n",
    "#Immutable data types are tuples, string etc\n",
    "\n",
    "#Mutable Data Type Example\n",
    "lst = [10, 20, 30, 40]\n",
    "\n",
    "#Accessing any of its element\n",
    "print(lst[3])\n",
    "\n",
    "#Iterating over for loop\n",
    "for itr in lst:\n",
    "    print(itr)\n",
    "    \n",
    "#Modifying its element \n",
    "lst[3] = 35\n",
    "\n",
    "#After Modifying list will be\n",
    "print(lst)\n",
    "\n",
    "#List is Mutable, we can change it value\n",
    "\n",
    "#####################################\n",
    "\n",
    "#Immutable Data Type Example\n",
    "my_str = \"Hello World!\"\n",
    "\n",
    "#Accessing any of its element\n",
    "print(my_str[5])\n",
    "\n",
    "#Iterating over for loop\n",
    "for itr in my_str:\n",
    "    print(itr)\n",
    "\n",
    "#Printing my string\n",
    "print(my_str)\n",
    "\n",
    "#Try to modify its element\n",
    "my_str[3] = 'M' #Raise Error, because we can't modify string\n",
    "\n",
    "#String is Immutable, we can't change it value\n",
    "\n",
    "#We can change my_str value but it will create new object given string literals, not change the original one\n",
    "#my_str = 'Assignment is Completed'"
   ]
  },
  {
   "cell_type": "code",
   "execution_count": null,
   "id": "21748f9f-ee1b-424d-8084-42560e5b5209",
   "metadata": {},
   "outputs": [],
   "source": []
  }
 ],
 "metadata": {
  "kernelspec": {
   "display_name": "Python 3 (ipykernel)",
   "language": "python",
   "name": "python3"
  },
  "language_info": {
   "codemirror_mode": {
    "name": "ipython",
    "version": 3
   },
   "file_extension": ".py",
   "mimetype": "text/x-python",
   "name": "python",
   "nbconvert_exporter": "python",
   "pygments_lexer": "ipython3",
   "version": "3.10.8"
  }
 },
 "nbformat": 4,
 "nbformat_minor": 5
}
